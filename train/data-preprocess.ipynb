{
 "cells": [
  {
   "cell_type": "code",
   "execution_count": 33,
   "metadata": {},
   "outputs": [],
   "source": [
    "import os, shutil\n",
    "folder = 'C:/Users/aadia\\Downloads/tfjs-tuberculosis-master/train/data/test'\n",
    "for filename in os.listdir(folder):\n",
    "    file_path = os.path.join(folder, filename)\n",
    "    try:\n",
    "        if os.path.isfile(file_path) or os.path.islink(file_path):\n",
    "            os.unlink(file_path)\n",
    "        elif os.path.isdir(file_path):\n",
    "            shutil.rmtree(file_path)\n",
    "    except Exception as e:\n",
    "        print('Failed to delete %s. Reason: %s' % (file_path, e))\n",
    "\n",
    "folder = 'C:/Users/aadia\\Downloads/tfjs-tuberculosis-master/train/data/train'\n",
    "for filename in os.listdir(folder):\n",
    "    file_path = os.path.join(folder, filename)\n",
    "    try:\n",
    "        if os.path.isfile(file_path) or os.path.islink(file_path):\n",
    "            os.unlink(file_path)\n",
    "        elif os.path.isdir(file_path):\n",
    "            shutil.rmtree(file_path)\n",
    "    except Exception as e:\n",
    "        print('Failed to delete %s. Reason: %s' % (file_path, e))"
   ]
  },
  {
   "cell_type": "code",
   "execution_count": 34,
   "metadata": {},
   "outputs": [],
   "source": [
    "import os\n",
    "import shutil\n",
    "import random\n",
    "base_path = r\"C:/Users/aadia/Downloads/flower_photos/flower_photos/\"\n",
    "flower_list = ['daisy', 'dandelion', 'roses', 'sunflowers', 'tulips']\n",
    "\n",
    "for flower_num in range(5):\n",
    "    folder_path = base_path + flower_list[flower_num] + \"/\"\n",
    "    for img_path in os.listdir(folder_path):\n",
    "        r = random.uniform(0,1)\n",
    "        if r <= 0.8:\n",
    "            shutil.copy(folder_path + img_path, \n",
    "            f\"C:/Users/aadia/Downloads/tfjs-tuberculosis-master/train/data/train/{img_path[0:-4]}_{flower_num}.jpg\")\n",
    "        else:\n",
    "            shutil.copy(folder_path + img_path, \n",
    "            f\"C:/Users/aadia/Downloads/tfjs-tuberculosis-master/train/data/test/{img_path[0:-4]}_{flower_num}.jpg\")"
   ]
  },
  {
   "cell_type": "code",
   "execution_count": 35,
   "metadata": {},
   "outputs": [
    {
     "data": {
      "text/plain": [
       "2935"
      ]
     },
     "execution_count": 35,
     "metadata": {},
     "output_type": "execute_result"
    }
   ],
   "source": [
    "len(os.listdir('C:/Users/aadia\\Downloads/tfjs-tuberculosis-master/train/data/train'))"
   ]
  },
  {
   "cell_type": "code",
   "execution_count": 36,
   "metadata": {},
   "outputs": [
    {
     "data": {
      "text/plain": [
       "735"
      ]
     },
     "execution_count": 36,
     "metadata": {},
     "output_type": "execute_result"
    }
   ],
   "source": [
    "len(os.listdir('C:/Users/aadia\\Downloads/tfjs-tuberculosis-master/train/data/test'))"
   ]
  },
  {
   "cell_type": "code",
   "execution_count": 32,
   "metadata": {},
   "outputs": [
    {
     "name": "stdout",
     "output_type": "stream",
     "text": [
      "{0: 215, 1: 262, 2: 195, 3: 208, 4: 242}\n"
     ]
    }
   ],
   "source": [
    "d = {0:0, 1:0, 2:0, 3:0, 4:0}\n",
    "for i in os.listdir('C:/Users/aadia\\Downloads/tfjs-tuberculosis-master/train/data/test'):\n",
    "    d[int(i[-5])] += 1\n",
    "print(d)"
   ]
  },
  {
   "cell_type": "code",
   "execution_count": null,
   "metadata": {},
   "outputs": [],
   "source": []
  }
 ],
 "metadata": {
  "kernelspec": {
   "display_name": "Python 3",
   "language": "python",
   "name": "python3"
  },
  "language_info": {
   "codemirror_mode": {
    "name": "ipython",
    "version": 3
   },
   "file_extension": ".py",
   "mimetype": "text/x-python",
   "name": "python",
   "nbconvert_exporter": "python",
   "pygments_lexer": "ipython3",
   "version": "3.10.0"
  },
  "orig_nbformat": 4
 },
 "nbformat": 4,
 "nbformat_minor": 2
}
